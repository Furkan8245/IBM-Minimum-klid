{
 "cells": [
  {
   "cell_type": "code",
   "execution_count": 10,
   "id": "cc4d356c-5bb1-476d-ae05-d5ba5c17b9e8",
   "metadata": {},
   "outputs": [],
   "source": [
    "import math"
   ]
  },
  {
   "cell_type": "code",
   "execution_count": 11,
   "id": "3c2eeedc-0724-41e5-a712-75c2b46b4fca",
   "metadata": {},
   "outputs": [],
   "source": [
    "def euclideanDistance(point1, point2):\n",
    "    return math.sqrt((point2[0] - point1[0])**2 + (point2[1] - point1[1])**2)"
   ]
  },
  {
   "cell_type": "code",
   "execution_count": 12,
   "id": "77b32932-61a0-4b56-ad22-5fad30b8e2a2",
   "metadata": {},
   "outputs": [],
   "source": [
    "points = [(2, 3), (5, 4), (3, 7), (1, 2), (6, 8)]"
   ]
  },
  {
   "cell_type": "code",
   "execution_count": 13,
   "id": "b53e24d9-fa87-4082-b1e2-dd6729ba0586",
   "metadata": {},
   "outputs": [],
   "source": [
    "distances = []\n",
    "for i in range(len(points)):\n",
    "    for j in range(i + 1, len(points)):\n",
    "        distance = euclideanDistance(points[i], points[j])\n",
    "        distances.append(distance)\n"
   ]
  },
  {
   "cell_type": "code",
   "execution_count": 14,
   "id": "19c1c10d-73e3-49d4-b4f4-c077ed5cb398",
   "metadata": {},
   "outputs": [],
   "source": [
    "min_distance = min(distances)\n"
   ]
  },
  {
   "cell_type": "code",
   "execution_count": 15,
   "id": "755323b8-b2d4-43a8-96b3-3ede65d936fd",
   "metadata": {},
   "outputs": [
    {
     "name": "stdout",
     "output_type": "stream",
     "text": [
      "Minimum mesafe: 1.4142135623730951\n"
     ]
    }
   ],
   "source": [
    "print(f\"Minimum mesafe: {min_distance}\")"
   ]
  },
  {
   "cell_type": "code",
   "execution_count": null,
   "id": "4394d54b-4d1f-4e9f-b08f-c516788ef4ed",
   "metadata": {},
   "outputs": [],
   "source": []
  },
  {
   "cell_type": "code",
   "execution_count": null,
   "id": "28b3120f-444c-48f3-b4f7-9682f8fc3fe2",
   "metadata": {},
   "outputs": [],
   "source": []
  }
 ],
 "metadata": {
  "kernelspec": {
   "display_name": "Python 3 (ipykernel)",
   "language": "python",
   "name": "python3"
  },
  "language_info": {
   "codemirror_mode": {
    "name": "ipython",
    "version": 3
   },
   "file_extension": ".py",
   "mimetype": "text/x-python",
   "name": "python",
   "nbconvert_exporter": "python",
   "pygments_lexer": "ipython3",
   "version": "3.11.7"
  }
 },
 "nbformat": 4,
 "nbformat_minor": 5
}
